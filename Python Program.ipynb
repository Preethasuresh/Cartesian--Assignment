{
 "cells": [
  {
   "cell_type": "code",
   "execution_count": 2,
   "id": "d2a6757c",
   "metadata": {},
   "outputs": [
    {
     "name": "stdout",
     "output_type": "stream",
     "text": [
      "Enter the string : this declaration represents a political commitment among declaration partners to advance a positive vision for the Internet in this era of a united europe\n",
      "\n",
      "*************************\n",
      "\n",
      "europe united a of era this in Internet the for vision positive a advance to partners declaration among commitment political a represents declaration this\n",
      "\n",
      "*************************\n",
      "\n",
      "[('a', 3), ('this', 2)] \n",
      "\n"
     ]
    }
   ],
   "source": [
    "def reverse_word(s, start, end):\n",
    "\twhile start < end:\n",
    "\t\ts[start], s[end] = s[end], s[start]\n",
    "\t\tstart = start + 1\n",
    "\t\tend -= 1\n",
    "\n",
    "s = str(input(\"Enter the string : \"))\n",
    "a = s\n",
    "print(\"\\n*************************\\n\")\n",
    "\n",
    "\n",
    "s = list(s)\n",
    "start = 0\n",
    "while True:\n",
    "\ttry:\n",
    "\t\tend = s.index(' ', start)\n",
    "\t\treverse_word(s, start, end - 1)\n",
    "\t\tstart = end + 1\n",
    "\texcept ValueError:\n",
    "\t\treverse_word(s, start, len(s) - 1)\n",
    "\t\tbreak\n",
    "s.reverse()\n",
    "s = \"\".join(s)\n",
    "print(s)\n",
    "\n",
    "print(\"\\n*************************\\n\")\n",
    "\n",
    "from collections import Counter\n",
    "\n",
    "data_set = a\n",
    "split_it = data_set.split()\n",
    "Counter = Counter(split_it)\n",
    "most_occur = Counter.most_common(2)\n",
    "print(most_occur,\"\\n\")"
   ]
  },
  {
   "cell_type": "code",
   "execution_count": null,
   "id": "6b32fb83",
   "metadata": {},
   "outputs": [],
   "source": []
  }
 ],
 "metadata": {
  "kernelspec": {
   "display_name": "Python 3 (ipykernel)",
   "language": "python",
   "name": "python3"
  },
  "language_info": {
   "codemirror_mode": {
    "name": "ipython",
    "version": 3
   },
   "file_extension": ".py",
   "mimetype": "text/x-python",
   "name": "python",
   "nbconvert_exporter": "python",
   "pygments_lexer": "ipython3",
   "version": "3.9.7"
  }
 },
 "nbformat": 4,
 "nbformat_minor": 5
}
